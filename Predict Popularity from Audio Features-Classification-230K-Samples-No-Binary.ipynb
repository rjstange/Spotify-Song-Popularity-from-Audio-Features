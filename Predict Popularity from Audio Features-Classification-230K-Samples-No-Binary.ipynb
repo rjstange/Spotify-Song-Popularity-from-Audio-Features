{
 "cells": [
  {
   "cell_type": "markdown",
   "metadata": {},
   "source": [
    "# 4-Class Popularity Range Prediction from Spotify Song Audio Features"
   ]
  },
  {
   "cell_type": "markdown",
   "metadata": {},
   "source": [
    "## Introduction"
   ]
  },
  {
   "cell_type": "markdown",
   "metadata": {},
   "source": [
    "When it comes to data about music, Spotify is one of the giants. Not only do they utilize sophisticated audio analysis processes to recognize distinct features in a song, but they also make this data readily available to anyone with the time and knowhow. Normally, it is rather cumbersome to gather the audio features data through the API, as you can only get 100 songs per API call, and you have to have each song's unique ID, so you really have to know exactly what songs you're looking for. Thankfully, however, I found a dataset on <a href=\"https://www.kaggle.com/zaheenhamidani/ultimate-spotify-tracks-db\">Kaggle</a> that has over 232K songs, with a diverse selection of nearly 10K songs for each of the 26 genres represented."
   ]
  },
  {
   "cell_type": "markdown",
   "metadata": {},
   "source": [
    "## Initialize and Import Data"
   ]
  },
  {
   "cell_type": "code",
   "execution_count": 1,
   "metadata": {},
   "outputs": [],
   "source": [
    "# Initialize the environment\n",
    "import time\n",
    "import numpy as np\n",
    "import pandas as pd"
   ]
  },
  {
   "cell_type": "code",
   "execution_count": 2,
   "metadata": {},
   "outputs": [],
   "source": [
    "#Import the data\n",
    "df = pd.read_csv(\"~/projects/spotify-song-popularity/ultimate-spotify-tracks-db.zip\")"
   ]
  },
  {
   "cell_type": "markdown",
   "metadata": {},
   "source": [
    "## Exploration"
   ]
  },
  {
   "cell_type": "code",
   "execution_count": 3,
   "metadata": {},
   "outputs": [
    {
     "data": {
      "text/html": [
       "<div>\n",
       "<style scoped>\n",
       "    .dataframe tbody tr th:only-of-type {\n",
       "        vertical-align: middle;\n",
       "    }\n",
       "\n",
       "    .dataframe tbody tr th {\n",
       "        vertical-align: top;\n",
       "    }\n",
       "\n",
       "    .dataframe thead th {\n",
       "        text-align: right;\n",
       "    }\n",
       "</style>\n",
       "<table border=\"1\" class=\"dataframe\">\n",
       "  <thead>\n",
       "    <tr style=\"text-align: right;\">\n",
       "      <th></th>\n",
       "      <th>genre</th>\n",
       "      <th>artist_name</th>\n",
       "      <th>track_name</th>\n",
       "      <th>track_id</th>\n",
       "      <th>popularity</th>\n",
       "      <th>acousticness</th>\n",
       "      <th>danceability</th>\n",
       "      <th>duration_ms</th>\n",
       "      <th>energy</th>\n",
       "      <th>instrumentalness</th>\n",
       "      <th>key</th>\n",
       "      <th>liveness</th>\n",
       "      <th>loudness</th>\n",
       "      <th>mode</th>\n",
       "      <th>speechiness</th>\n",
       "      <th>tempo</th>\n",
       "      <th>time_signature</th>\n",
       "      <th>valence</th>\n",
       "    </tr>\n",
       "  </thead>\n",
       "  <tbody>\n",
       "    <tr>\n",
       "      <th>102248</th>\n",
       "      <td>Children’s Music</td>\n",
       "      <td>Three Days Grace</td>\n",
       "      <td>Chasing The First Time</td>\n",
       "      <td>5waEr0KFm3f3mnAI7qDUfY</td>\n",
       "      <td>53</td>\n",
       "      <td>0.00338</td>\n",
       "      <td>0.463</td>\n",
       "      <td>175613</td>\n",
       "      <td>0.936</td>\n",
       "      <td>0.000000</td>\n",
       "      <td>D</td>\n",
       "      <td>0.365</td>\n",
       "      <td>-3.458</td>\n",
       "      <td>Minor</td>\n",
       "      <td>0.0989</td>\n",
       "      <td>75.497</td>\n",
       "      <td>4/4</td>\n",
       "      <td>0.4030</td>\n",
       "    </tr>\n",
       "    <tr>\n",
       "      <th>225109</th>\n",
       "      <td>Rock</td>\n",
       "      <td>OneRepublic</td>\n",
       "      <td>Something I Need</td>\n",
       "      <td>4KANJH1baadr3U7XsVbM17</td>\n",
       "      <td>57</td>\n",
       "      <td>0.16400</td>\n",
       "      <td>0.683</td>\n",
       "      <td>241267</td>\n",
       "      <td>0.601</td>\n",
       "      <td>0.000000</td>\n",
       "      <td>G</td>\n",
       "      <td>0.119</td>\n",
       "      <td>-6.927</td>\n",
       "      <td>Major</td>\n",
       "      <td>0.0308</td>\n",
       "      <td>98.970</td>\n",
       "      <td>4/4</td>\n",
       "      <td>0.6200</td>\n",
       "    </tr>\n",
       "    <tr>\n",
       "      <th>75501</th>\n",
       "      <td>Children's Music</td>\n",
       "      <td>Juice Music</td>\n",
       "      <td>We Will Rock You</td>\n",
       "      <td>0j1vdTvZ6GahC6emB1fUhc</td>\n",
       "      <td>0</td>\n",
       "      <td>0.07510</td>\n",
       "      <td>0.848</td>\n",
       "      <td>147640</td>\n",
       "      <td>0.411</td>\n",
       "      <td>0.000066</td>\n",
       "      <td>E</td>\n",
       "      <td>0.110</td>\n",
       "      <td>-10.447</td>\n",
       "      <td>Minor</td>\n",
       "      <td>0.1460</td>\n",
       "      <td>90.974</td>\n",
       "      <td>4/4</td>\n",
       "      <td>0.2690</td>\n",
       "    </tr>\n",
       "    <tr>\n",
       "      <th>19511</th>\n",
       "      <td>Dance</td>\n",
       "      <td>P!nk</td>\n",
       "      <td>Trouble</td>\n",
       "      <td>19mgPZ6GYOmozgEh56YhFP</td>\n",
       "      <td>45</td>\n",
       "      <td>0.00680</td>\n",
       "      <td>0.572</td>\n",
       "      <td>191880</td>\n",
       "      <td>0.932</td>\n",
       "      <td>0.000000</td>\n",
       "      <td>G</td>\n",
       "      <td>0.491</td>\n",
       "      <td>-2.700</td>\n",
       "      <td>Major</td>\n",
       "      <td>0.0479</td>\n",
       "      <td>135.522</td>\n",
       "      <td>4/4</td>\n",
       "      <td>0.8530</td>\n",
       "    </tr>\n",
       "    <tr>\n",
       "      <th>106916</th>\n",
       "      <td>Opera</td>\n",
       "      <td>Giacomo Puccini</td>\n",
       "      <td>Il Tabarro: Dimmi: perchè gli hai chiesto</td>\n",
       "      <td>7CutY2mf7ERdInX9kD6vBU</td>\n",
       "      <td>2</td>\n",
       "      <td>0.97000</td>\n",
       "      <td>0.333</td>\n",
       "      <td>272373</td>\n",
       "      <td>0.302</td>\n",
       "      <td>0.004180</td>\n",
       "      <td>A</td>\n",
       "      <td>0.361</td>\n",
       "      <td>-15.888</td>\n",
       "      <td>Major</td>\n",
       "      <td>0.0625</td>\n",
       "      <td>120.356</td>\n",
       "      <td>3/4</td>\n",
       "      <td>0.0766</td>\n",
       "    </tr>\n",
       "  </tbody>\n",
       "</table>\n",
       "</div>"
      ],
      "text/plain": [
       "                   genre       artist_name  \\\n",
       "102248  Children’s Music  Three Days Grace   \n",
       "225109              Rock       OneRepublic   \n",
       "75501   Children's Music       Juice Music   \n",
       "19511              Dance              P!nk   \n",
       "106916             Opera   Giacomo Puccini   \n",
       "\n",
       "                                       track_name                track_id  \\\n",
       "102248                     Chasing The First Time  5waEr0KFm3f3mnAI7qDUfY   \n",
       "225109                           Something I Need  4KANJH1baadr3U7XsVbM17   \n",
       "75501                            We Will Rock You  0j1vdTvZ6GahC6emB1fUhc   \n",
       "19511                                     Trouble  19mgPZ6GYOmozgEh56YhFP   \n",
       "106916  Il Tabarro: Dimmi: perchè gli hai chiesto  7CutY2mf7ERdInX9kD6vBU   \n",
       "\n",
       "        popularity  acousticness  danceability  duration_ms  energy  \\\n",
       "102248          53       0.00338         0.463       175613   0.936   \n",
       "225109          57       0.16400         0.683       241267   0.601   \n",
       "75501            0       0.07510         0.848       147640   0.411   \n",
       "19511           45       0.00680         0.572       191880   0.932   \n",
       "106916           2       0.97000         0.333       272373   0.302   \n",
       "\n",
       "        instrumentalness key  liveness  loudness   mode  speechiness    tempo  \\\n",
       "102248          0.000000   D     0.365    -3.458  Minor       0.0989   75.497   \n",
       "225109          0.000000   G     0.119    -6.927  Major       0.0308   98.970   \n",
       "75501           0.000066   E     0.110   -10.447  Minor       0.1460   90.974   \n",
       "19511           0.000000   G     0.491    -2.700  Major       0.0479  135.522   \n",
       "106916          0.004180   A     0.361   -15.888  Major       0.0625  120.356   \n",
       "\n",
       "       time_signature  valence  \n",
       "102248            4/4   0.4030  \n",
       "225109            4/4   0.6200  \n",
       "75501             4/4   0.2690  \n",
       "19511             4/4   0.8530  \n",
       "106916            3/4   0.0766  "
      ]
     },
     "execution_count": 3,
     "metadata": {},
     "output_type": "execute_result"
    }
   ],
   "source": [
    "df.sample(5)"
   ]
  },
  {
   "cell_type": "code",
   "execution_count": 4,
   "metadata": {},
   "outputs": [
    {
     "name": "stdout",
     "output_type": "stream",
     "text": [
      "<class 'pandas.core.frame.DataFrame'>\n",
      "RangeIndex: 232725 entries, 0 to 232724\n",
      "Data columns (total 18 columns):\n",
      "genre               232725 non-null object\n",
      "artist_name         232725 non-null object\n",
      "track_name          232725 non-null object\n",
      "track_id            232725 non-null object\n",
      "popularity          232725 non-null int64\n",
      "acousticness        232725 non-null float64\n",
      "danceability        232725 non-null float64\n",
      "duration_ms         232725 non-null int64\n",
      "energy              232725 non-null float64\n",
      "instrumentalness    232725 non-null float64\n",
      "key                 232725 non-null object\n",
      "liveness            232725 non-null float64\n",
      "loudness            232725 non-null float64\n",
      "mode                232725 non-null object\n",
      "speechiness         232725 non-null float64\n",
      "tempo               232725 non-null float64\n",
      "time_signature      232725 non-null object\n",
      "valence             232725 non-null float64\n",
      "dtypes: float64(9), int64(2), object(7)\n",
      "memory usage: 32.0+ MB\n"
     ]
    }
   ],
   "source": [
    "df.info()"
   ]
  },
  {
   "cell_type": "markdown",
   "metadata": {},
   "source": [
    "Apparently no nulls, so that is good. I'll do a df.describe() to make sure there are no erroneous numerical values."
   ]
  },
  {
   "cell_type": "code",
   "execution_count": 5,
   "metadata": {},
   "outputs": [
    {
     "data": {
      "text/html": [
       "<div>\n",
       "<style scoped>\n",
       "    .dataframe tbody tr th:only-of-type {\n",
       "        vertical-align: middle;\n",
       "    }\n",
       "\n",
       "    .dataframe tbody tr th {\n",
       "        vertical-align: top;\n",
       "    }\n",
       "\n",
       "    .dataframe thead th {\n",
       "        text-align: right;\n",
       "    }\n",
       "</style>\n",
       "<table border=\"1\" class=\"dataframe\">\n",
       "  <thead>\n",
       "    <tr style=\"text-align: right;\">\n",
       "      <th></th>\n",
       "      <th>popularity</th>\n",
       "      <th>acousticness</th>\n",
       "      <th>danceability</th>\n",
       "      <th>duration_ms</th>\n",
       "      <th>energy</th>\n",
       "      <th>instrumentalness</th>\n",
       "      <th>liveness</th>\n",
       "      <th>loudness</th>\n",
       "      <th>speechiness</th>\n",
       "      <th>tempo</th>\n",
       "      <th>valence</th>\n",
       "    </tr>\n",
       "  </thead>\n",
       "  <tbody>\n",
       "    <tr>\n",
       "      <th>count</th>\n",
       "      <td>232725.000000</td>\n",
       "      <td>232725.000000</td>\n",
       "      <td>232725.000000</td>\n",
       "      <td>2.327250e+05</td>\n",
       "      <td>232725.000000</td>\n",
       "      <td>232725.000000</td>\n",
       "      <td>232725.000000</td>\n",
       "      <td>232725.000000</td>\n",
       "      <td>232725.000000</td>\n",
       "      <td>232725.000000</td>\n",
       "      <td>232725.000000</td>\n",
       "    </tr>\n",
       "    <tr>\n",
       "      <th>mean</th>\n",
       "      <td>41.127502</td>\n",
       "      <td>0.368560</td>\n",
       "      <td>0.554364</td>\n",
       "      <td>2.351223e+05</td>\n",
       "      <td>0.570958</td>\n",
       "      <td>0.148301</td>\n",
       "      <td>0.215009</td>\n",
       "      <td>-9.569885</td>\n",
       "      <td>0.120765</td>\n",
       "      <td>117.666585</td>\n",
       "      <td>0.454917</td>\n",
       "    </tr>\n",
       "    <tr>\n",
       "      <th>std</th>\n",
       "      <td>18.189948</td>\n",
       "      <td>0.354768</td>\n",
       "      <td>0.185608</td>\n",
       "      <td>1.189359e+05</td>\n",
       "      <td>0.263456</td>\n",
       "      <td>0.302768</td>\n",
       "      <td>0.198273</td>\n",
       "      <td>5.998204</td>\n",
       "      <td>0.185518</td>\n",
       "      <td>30.898907</td>\n",
       "      <td>0.260065</td>\n",
       "    </tr>\n",
       "    <tr>\n",
       "      <th>min</th>\n",
       "      <td>0.000000</td>\n",
       "      <td>0.000000</td>\n",
       "      <td>0.056900</td>\n",
       "      <td>1.538700e+04</td>\n",
       "      <td>0.000020</td>\n",
       "      <td>0.000000</td>\n",
       "      <td>0.009670</td>\n",
       "      <td>-52.457000</td>\n",
       "      <td>0.022200</td>\n",
       "      <td>30.379000</td>\n",
       "      <td>0.000000</td>\n",
       "    </tr>\n",
       "    <tr>\n",
       "      <th>25%</th>\n",
       "      <td>29.000000</td>\n",
       "      <td>0.037600</td>\n",
       "      <td>0.435000</td>\n",
       "      <td>1.828570e+05</td>\n",
       "      <td>0.385000</td>\n",
       "      <td>0.000000</td>\n",
       "      <td>0.097400</td>\n",
       "      <td>-11.771000</td>\n",
       "      <td>0.036700</td>\n",
       "      <td>92.959000</td>\n",
       "      <td>0.237000</td>\n",
       "    </tr>\n",
       "    <tr>\n",
       "      <th>50%</th>\n",
       "      <td>43.000000</td>\n",
       "      <td>0.232000</td>\n",
       "      <td>0.571000</td>\n",
       "      <td>2.204270e+05</td>\n",
       "      <td>0.605000</td>\n",
       "      <td>0.000044</td>\n",
       "      <td>0.128000</td>\n",
       "      <td>-7.762000</td>\n",
       "      <td>0.050100</td>\n",
       "      <td>115.778000</td>\n",
       "      <td>0.444000</td>\n",
       "    </tr>\n",
       "    <tr>\n",
       "      <th>75%</th>\n",
       "      <td>55.000000</td>\n",
       "      <td>0.722000</td>\n",
       "      <td>0.692000</td>\n",
       "      <td>2.657680e+05</td>\n",
       "      <td>0.787000</td>\n",
       "      <td>0.035800</td>\n",
       "      <td>0.264000</td>\n",
       "      <td>-5.501000</td>\n",
       "      <td>0.105000</td>\n",
       "      <td>139.054000</td>\n",
       "      <td>0.660000</td>\n",
       "    </tr>\n",
       "    <tr>\n",
       "      <th>max</th>\n",
       "      <td>100.000000</td>\n",
       "      <td>0.996000</td>\n",
       "      <td>0.989000</td>\n",
       "      <td>5.552917e+06</td>\n",
       "      <td>0.999000</td>\n",
       "      <td>0.999000</td>\n",
       "      <td>1.000000</td>\n",
       "      <td>3.744000</td>\n",
       "      <td>0.967000</td>\n",
       "      <td>242.903000</td>\n",
       "      <td>1.000000</td>\n",
       "    </tr>\n",
       "  </tbody>\n",
       "</table>\n",
       "</div>"
      ],
      "text/plain": [
       "          popularity   acousticness   danceability   duration_ms  \\\n",
       "count  232725.000000  232725.000000  232725.000000  2.327250e+05   \n",
       "mean       41.127502       0.368560       0.554364  2.351223e+05   \n",
       "std        18.189948       0.354768       0.185608  1.189359e+05   \n",
       "min         0.000000       0.000000       0.056900  1.538700e+04   \n",
       "25%        29.000000       0.037600       0.435000  1.828570e+05   \n",
       "50%        43.000000       0.232000       0.571000  2.204270e+05   \n",
       "75%        55.000000       0.722000       0.692000  2.657680e+05   \n",
       "max       100.000000       0.996000       0.989000  5.552917e+06   \n",
       "\n",
       "              energy  instrumentalness       liveness       loudness  \\\n",
       "count  232725.000000     232725.000000  232725.000000  232725.000000   \n",
       "mean        0.570958          0.148301       0.215009      -9.569885   \n",
       "std         0.263456          0.302768       0.198273       5.998204   \n",
       "min         0.000020          0.000000       0.009670     -52.457000   \n",
       "25%         0.385000          0.000000       0.097400     -11.771000   \n",
       "50%         0.605000          0.000044       0.128000      -7.762000   \n",
       "75%         0.787000          0.035800       0.264000      -5.501000   \n",
       "max         0.999000          0.999000       1.000000       3.744000   \n",
       "\n",
       "         speechiness          tempo        valence  \n",
       "count  232725.000000  232725.000000  232725.000000  \n",
       "mean        0.120765     117.666585       0.454917  \n",
       "std         0.185518      30.898907       0.260065  \n",
       "min         0.022200      30.379000       0.000000  \n",
       "25%         0.036700      92.959000       0.237000  \n",
       "50%         0.050100     115.778000       0.444000  \n",
       "75%         0.105000     139.054000       0.660000  \n",
       "max         0.967000     242.903000       1.000000  "
      ]
     },
     "execution_count": 5,
     "metadata": {},
     "output_type": "execute_result"
    }
   ],
   "source": [
    "df.describe()"
   ]
  },
  {
   "cell_type": "markdown",
   "metadata": {},
   "source": [
    "## Cleaning"
   ]
  },
  {
   "cell_type": "markdown",
   "metadata": {},
   "source": [
    "Looks like \"duration_ms\" is using a much larger type of integer for a number that only reaches about 5.5 million at the most in this dataset, so I'll change it to an int32, which has a max value of 2147483647, and uses half the memory."
   ]
  },
  {
   "cell_type": "code",
   "execution_count": 6,
   "metadata": {},
   "outputs": [],
   "source": [
    "df['duration_ms'] = df['duration_ms'].astype(\"uint32\")"
   ]
  },
  {
   "cell_type": "markdown",
   "metadata": {},
   "source": [
    "Since \"popularity\" only ranges from 0-100, we can use an unsigned 8 bit integer, which has a range of 0-255."
   ]
  },
  {
   "cell_type": "code",
   "execution_count": 7,
   "metadata": {},
   "outputs": [],
   "source": [
    "df['popularity'] = df['popularity'].astype(\"uint8\")"
   ]
  },
  {
   "cell_type": "code",
   "execution_count": 8,
   "metadata": {},
   "outputs": [
    {
     "name": "stdout",
     "output_type": "stream",
     "text": [
      "<class 'pandas.core.frame.DataFrame'>\n",
      "RangeIndex: 232725 entries, 0 to 232724\n",
      "Data columns (total 18 columns):\n",
      "genre               232725 non-null object\n",
      "artist_name         232725 non-null object\n",
      "track_name          232725 non-null object\n",
      "track_id            232725 non-null object\n",
      "popularity          232725 non-null uint8\n",
      "acousticness        232725 non-null float64\n",
      "danceability        232725 non-null float64\n",
      "duration_ms         232725 non-null uint32\n",
      "energy              232725 non-null float64\n",
      "instrumentalness    232725 non-null float64\n",
      "key                 232725 non-null object\n",
      "liveness            232725 non-null float64\n",
      "loudness            232725 non-null float64\n",
      "mode                232725 non-null object\n",
      "speechiness         232725 non-null float64\n",
      "tempo               232725 non-null float64\n",
      "time_signature      232725 non-null object\n",
      "valence             232725 non-null float64\n",
      "dtypes: float64(9), object(7), uint32(1), uint8(1)\n",
      "memory usage: 29.5+ MB\n"
     ]
    }
   ],
   "source": [
    "df.info()"
   ]
  },
  {
   "cell_type": "markdown",
   "metadata": {},
   "source": [
    "Shaved off 2.5MB, which may not seem like a lot now, but when the dataset gets larger, every little bit counts.\n",
    "\n",
    "I don't need the first four columns, since I do not care about artist, track name, or ID, and I'm not taking the genre into consideration for this model, as there will already be a lot of one-hot encoded features added just from two of the columns, \"key\" and \"time signature\".\n",
    "First, I'll drop the first four columns before getting dummies."
   ]
  },
  {
   "cell_type": "code",
   "execution_count": 9,
   "metadata": {},
   "outputs": [],
   "source": [
    "df.drop([\"genre\", \"artist_name\", \"track_id\", \"track_name\"], 1, inplace=True)"
   ]
  },
  {
   "cell_type": "code",
   "execution_count": 10,
   "metadata": {},
   "outputs": [
    {
     "name": "stdout",
     "output_type": "stream",
     "text": [
      "<class 'pandas.core.frame.DataFrame'>\n",
      "RangeIndex: 232725 entries, 0 to 232724\n",
      "Data columns (total 14 columns):\n",
      "popularity          232725 non-null uint8\n",
      "acousticness        232725 non-null float64\n",
      "danceability        232725 non-null float64\n",
      "duration_ms         232725 non-null uint32\n",
      "energy              232725 non-null float64\n",
      "instrumentalness    232725 non-null float64\n",
      "key                 232725 non-null object\n",
      "liveness            232725 non-null float64\n",
      "loudness            232725 non-null float64\n",
      "mode                232725 non-null object\n",
      "speechiness         232725 non-null float64\n",
      "tempo               232725 non-null float64\n",
      "time_signature      232725 non-null object\n",
      "valence             232725 non-null float64\n",
      "dtypes: float64(9), object(3), uint32(1), uint8(1)\n",
      "memory usage: 22.4+ MB\n"
     ]
    }
   ],
   "source": [
    "df.info()"
   ]
  },
  {
   "cell_type": "markdown",
   "metadata": {},
   "source": [
    "## Feature Engineering"
   ]
  },
  {
   "cell_type": "markdown",
   "metadata": {},
   "source": [
    "First, before I into feature engineering, I will provide explanations for each of the features.\n",
    "* **Popularity** (the outcome variable): A score from 0-100. This metric is based on how many listens a song gets, and each listen is weighted based on how recent it is. The more recent a listen, the more it impacts a song's popularity score. This is a dynamically's changing score, and if one were to maintain a full audio feature's database of every Spotify song, it would be advised to pull the entire catalog at least once a year to keep up with current popularity scores, influenced by listening trends. If I were to do it, I would ensure that every song was released last year, so the song has had at least a year to be listened to, especially for newer, independent artists that need time to get exposure.\n",
    "\n",
    "The audio feature descriptions below were pulled from Spotify's API <a href=\"https://developer.spotify.com/documentation/web-api/reference/tracks/get-audio-features/\">documentation</a>, for the sake of saving time.\n",
    "\n",
    "* **Acousticness**: A confidence measure from 0.0 to 1.0 of whether the track is acoustic. 1.0 represents high confidence the track is acoustic.\n",
    "* **Danceability**: Describes how suitable a track is for dancing based on a combination of musical elements including tempo, rhythm stability, beat strength, and overall regularity.\n",
    "* **Duration in milliseconds**: Self explanatory.\n",
    "* **Energy**: A measure from 0.0 to 1.0 and represents a perceptual measure of intensity and activity. Typically, energetic tracks feel fast, loud, and noisy. For example, death metal has high energy, while a Bach prelude scores low on the scale. Perceptual features contributing to this attribute include dynamic range, perceived loudness, timbre, onset rate, and general entropy.\n",
    "* **Instrumentalness**: Predicts whether a track contains no vocals. “Ooh” and “aah” sounds are treated as instrumental in this context. Rap or spoken word tracks are clearly “vocal”. The closer the instrumentalness value is to 1.0, the greater likelihood the track contains no vocal content. Values above 0.5 are intended to represent instrumental tracks, but confidence is higher as the value approaches 1.0.\n",
    "* **Liveness**: Detects the presence of an audience in the recording. Higher liveness values represent an increased probability that the track was performed live. A value above 0.8 provides strong likelihood that the track is live.\n",
    "* **Loudness**: The overall loudness of a track in decibels (dB). Loudness values are averaged across the entire track and are useful for comparing relative loudness of tracks. Loudness is the quality of a sound that is the primary psychological correlate of physical strength (amplitude). Values typical range between -60 and 0 db.\n",
    "* **Speechiness**: Detects the presence of spoken words in a track. The more exclusively speech-like the recording (e.g. talk show, audio book, poetry), the closer to 1.0 the attribute value. Values above 0.66 describe tracks that are probably made entirely of spoken words. Values between 0.33 and 0.66 describe tracks that may contain both music and speech, either in sections or layered, including such cases as rap music. Values below 0.33 most likely represent music and other non-speech-like tracks.\n",
    "* **Valence**: A measure from 0.0 to 1.0 describing the musical positiveness conveyed by a track. Tracks with high valence sound more positive (e.g. happy, cheerful, euphoric), while tracks with low valence sound more negative (e.g. sad, depressed, angry).\n",
    "* **Tempo**: The overall estimated tempo of a track in beats per minute (BPM). In musical terminology, tempo is the speed or pace of a given piece and derives directly from the average beat duration."
   ]
  },
  {
   "cell_type": "code",
   "execution_count": 11,
   "metadata": {},
   "outputs": [],
   "source": [
    "import matplotlib.pyplot as plt\n",
    "import seaborn as sns\n",
    "sns.set(style=\"darkgrid\")"
   ]
  },
  {
   "cell_type": "code",
   "execution_count": 12,
   "metadata": {
    "scrolled": false
   },
   "outputs": [
    {
     "data": {
      "image/png": "[encoded data removed]",
      "text/plain": [
       "<Figure size 864x720 with 2 Axes>"
      ]
     },
     "metadata": {
      "needs_background": "light"
     },
     "output_type": "display_data"
    }
   ],
   "source": [
    "plt.figure(figsize=(12, 10))\n",
    "sns.heatmap(df.corr(), center=0, annot=True)\n",
    "plt.xticks(rotation=25)\n",
    "plt.show()"
   ]
  },
  {
   "cell_type": "markdown",
   "metadata": {},
   "source": [
    "A lot can be said about this heatmap when it comes to how all the input features correlate with eachother, but since I only care about how they interact with the outcome variable, I will discuss their correlations.\n",
    "\n",
    "**Detractors**\n",
    "\n",
    "* **Acousticness**: With -0.38, it seems that the acousticness of a track is the greatest detractor of popularity in this dataset. This is not too surprising, as a lot of classical and folk music have high scores in this feature, while most popular music these days has a lot of electronic instruments.\n",
    "* **Instrumentalness**: With -0.21, this is the second greatest detractor to popularity. It seems that the absence of lyrics does not help a song's popularity. Perhaps the lack of lyrics makes a song less relatable to most people?\n",
    "* **Liveness**: With -0.17, this is the third greatest detractor to popularity. I would postulate that this is due to most live versions of songs not sounding as well produced than the studio version. Perhaps the crowd noise is also a turn-off for most people that just want to enjoy the music?\n",
    "* **Speechiness**: With -0.15, this is the fourth greatest detractor to popularity. This may show that many people on Spotify just want to listen to music, and not to podcasts or comedy routines, which are just some of the kinds of tracks that have a high degree \"speechiness.\"\n",
    "\n",
    "**Contributors**\n",
    "\n",
    "* **Loudness**: At 0.36, this is the greatest contributor to popularity. It makes sense, as if a song isn't well-mastered, and thus not having the capacity for a greater perceived volume, it may be hard for the listener to appreciate all of the nuances and elements of a song.\n",
    "* **Danceability**: At 0.26, this is the second greatest contributor to popularity. This follows intuition, as more danceable a track is, the beat is steady and easier for the listener to follow, thus being more accessible to a larger audience. Also, if a track is easier to dance to, it allows for listeners to play the track while they do an athletic activity, as it helps them keep a steady pace, and also makes it more likely to be played in public places, like clubs, bars, and retail stores.\n",
    "* **Energy**: At a close third, with 0.25, it goes along with my previous assessment of \"Danceability\", listeners will enjoy playing a track with higher energy during the day when they want to be most active.\n",
    "* **Tempo**: At a more distant 0.081, the tempo of a track plays a seemingly minor, but important role, as if it a song is too slow, a listener will be bored, and if it is too fast, they will be overwhelmed.\n",
    "* **Valence**: At 0.06, happier sounding tracks are a little bit more popular, and this may make sense as the general population wants to be uplifted by their music most of the time, though at times they may want to listen to something more fitting to their current mood.\n",
    "* **Duration**: At a very minor 0.0023, it may not seem to contribute much, but listeners may grow bored if a song is too long, or end up skipping really short songs that are used as intros, outros, or interludes on an album."
   ]
  },
  {
   "cell_type": "markdown",
   "metadata": {},
   "source": [
    "### Encoding"
   ]
  },
  {
   "cell_type": "markdown",
   "metadata": {},
   "source": [
    "Presently, mode, which determines whether a song is in a major or minor key, is not in numerical format, so it needs to be binary, 0 for \"Minor\" and 1 for \"Major. I will also convert it to uint8 to save more memory. "
   ]
  },
  {
   "cell_type": "code",
   "execution_count": 15,
   "metadata": {},
   "outputs": [],
   "source": [
    "df[\"mode\"].mask(df[\"mode\"] == 'Minor', 0, inplace=True)\n",
    "df[\"mode\"].mask(df[\"mode\"] == 'Major', 1, inplace=True)"
   ]
  },
  {
   "cell_type": "code",
   "execution_count": 18,
   "metadata": {},
   "outputs": [],
   "source": [
    "df['mode'] = df['mode'].astype(\"uint8\")"
   ]
  },
  {
   "cell_type": "code",
   "execution_count": 19,
   "metadata": {},
   "outputs": [
    {
     "name": "stdout",
     "output_type": "stream",
     "text": [
      "<class 'pandas.core.frame.DataFrame'>\n",
      "RangeIndex: 232725 entries, 0 to 232724\n",
      "Data columns (total 14 columns):\n",
      "popularity          232725 non-null uint8\n",
      "acousticness        232725 non-null float64\n",
      "danceability        232725 non-null float64\n",
      "duration_ms         232725 non-null uint32\n",
      "energy              232725 non-null float64\n",
      "instrumentalness    232725 non-null float64\n",
      "key                 232725 non-null object\n",
      "liveness            232725 non-null float64\n",
      "loudness            232725 non-null float64\n",
      "mode                232725 non-null uint8\n",
      "speechiness         232725 non-null float64\n",
      "tempo               232725 non-null float64\n",
      "time_signature      232725 non-null object\n",
      "valence             232725 non-null float64\n",
      "dtypes: float64(9), object(2), uint32(1), uint8(2)\n",
      "memory usage: 20.9+ MB\n"
     ]
    }
   ],
   "source": [
    "df.info()"
   ]
  },
  {
   "cell_type": "markdown",
   "metadata": {},
   "source": [
    "Now to one-hot encode the two remaining objects.\n",
    "These are features that were not mentioned previously. I will include their descriptions below, again, from the Spotify API <a href=\"https://developer.spotify.com/documentation/web-api/reference/tracks/get-audio-features/\">documentation</a>\n",
    "\n",
    "* **Time Signature**: An estimated overall time signature of a track. The time signature (meter) is a notational convention to specify how many beats are in each bar (or measure).\n",
    "* **Key**: The estimated overall key of the track. Integers map to pitches using standard Pitch Class notation . E.g. 0 = C, 1 = C♯/D♭, 2 = D, and so on. If no key was detected, the value is -1. (**Note**: The dataset already had the keys converted from their numerical label encoded into string labels)"
   ]
  },
  {
   "cell_type": "code",
   "execution_count": 20,
   "metadata": {},
   "outputs": [],
   "source": [
    "df = pd.get_dummies(df, columns=[\"time_signature\", \"key\"])"
   ]
  },
  {
   "cell_type": "markdown",
   "metadata": {},
   "source": [
    "Now to get an idea of the distribution of the outcome variable, to see if we have something good to work with."
   ]
  },
  {
   "cell_type": "code",
   "execution_count": 21,
   "metadata": {},
   "outputs": [
    {
     "data": {
      "image/png": "[encoded data removed]",
      "text/plain": [
       "<Figure size 432x288 with 1 Axes>"
      ]
     },
     "metadata": {
      "needs_background": "light"
     },
     "output_type": "display_data"
    }
   ],
   "source": [
    "plt.hist(df['popularity'])\n",
    "plt.show()"
   ]
  },
  {
   "cell_type": "markdown",
   "metadata": {},
   "source": [
    "Looks relatively normal in distribution.\n",
    "\n",
    "Now to make this a four-class classification model, I need to find how to split up the popularity score ranges. I will use .describe() to get the quartiles to maintain relatively equal class balance."
   ]
  },
  {
   "cell_type": "code",
   "execution_count": 22,
   "metadata": {},
   "outputs": [
    {
     "data": {
      "text/plain": [
       "count    232725.000000\n",
       "mean         41.127502\n",
       "std          18.189948\n",
       "min           0.000000\n",
       "25%          29.000000\n",
       "50%          43.000000\n",
       "75%          55.000000\n",
       "max         100.000000\n",
       "Name: popularity, dtype: float64"
      ]
     },
     "execution_count": 22,
     "metadata": {},
     "output_type": "execute_result"
    }
   ],
   "source": [
    "df[\"popularity\"].describe()"
   ]
  },
  {
   "cell_type": "markdown",
   "metadata": {},
   "source": [
    "Now I have the boundary lines for the 4 different ranges: \n",
    "<br>0: < 29 \n",
    "<br>1: >= 29 & < 43\n",
    "<br>2: >= 43 & < 55\n",
    "<br>3: >= 55"
   ]
  },
  {
   "cell_type": "code",
   "execution_count": 23,
   "metadata": {},
   "outputs": [],
   "source": [
    "df[\"popularity\"].mask(df['popularity'] < 29, 0, inplace=True)\n",
    "df[\"popularity\"].mask((df['popularity'] >= 29) & (df['popularity'] < 43), 1, inplace=True)\n",
    "df[\"popularity\"].mask((df['popularity'] >= 43) & (df['popularity'] < 55), 2, inplace=True)\n",
    "df[\"popularity\"].mask(df['popularity'] >= 55, 3, inplace=True)"
   ]
  },
  {
   "cell_type": "code",
   "execution_count": 19,
   "metadata": {},
   "outputs": [
    {
     "data": {
      "text/plain": [
       "2    60223\n",
       "3    58432\n",
       "1    57660\n",
       "0    56410\n",
       "Name: popularity, dtype: int64"
      ]
     },
     "execution_count": 19,
     "metadata": {},
     "output_type": "execute_result"
    }
   ],
   "source": [
    "df['popularity'].value_counts()"
   ]
  },
  {
   "cell_type": "code",
   "execution_count": 20,
   "metadata": {},
   "outputs": [
    {
     "data": {
      "image/png": "[encoded data removed]",
      "text/plain": [
       "<Figure size 432x288 with 1 Axes>"
      ]
     },
     "metadata": {},
     "output_type": "display_data"
    }
   ],
   "source": [
    "plt.hist(df['popularity'])\n",
    "plt.show()"
   ]
  },
  {
   "cell_type": "markdown",
   "metadata": {},
   "source": [
    "Good class balance confirmed."
   ]
  },
  {
   "cell_type": "code",
   "execution_count": 24,
   "metadata": {
    "scrolled": false
   },
   "outputs": [
    {
     "name": "stdout",
     "output_type": "stream",
     "text": [
      "<class 'pandas.core.frame.DataFrame'>\n",
      "RangeIndex: 232725 entries, 0 to 232724\n",
      "Data columns (total 29 columns):\n",
      "popularity            232725 non-null uint8\n",
      "acousticness          232725 non-null float64\n",
      "danceability          232725 non-null float64\n",
      "duration_ms           232725 non-null uint32\n",
      "energy                232725 non-null float64\n",
      "instrumentalness      232725 non-null float64\n",
      "liveness              232725 non-null float64\n",
      "loudness              232725 non-null float64\n",
      "mode                  232725 non-null uint8\n",
      "speechiness           232725 non-null float64\n",
      "tempo                 232725 non-null float64\n",
      "valence               232725 non-null float64\n",
      "time_signature_0/4    232725 non-null uint8\n",
      "time_signature_1/4    232725 non-null uint8\n",
      "time_signature_3/4    232725 non-null uint8\n",
      "time_signature_4/4    232725 non-null uint8\n",
      "time_signature_5/4    232725 non-null uint8\n",
      "key_A                 232725 non-null uint8\n",
      "key_A#                232725 non-null uint8\n",
      "key_B                 232725 non-null uint8\n",
      "key_C                 232725 non-null uint8\n",
      "key_C#                232725 non-null uint8\n",
      "key_D                 232725 non-null uint8\n",
      "key_D#                232725 non-null uint8\n",
      "key_E                 232725 non-null uint8\n",
      "key_F                 232725 non-null uint8\n",
      "key_F#                232725 non-null uint8\n",
      "key_G                 232725 non-null uint8\n",
      "key_G#                232725 non-null uint8\n",
      "dtypes: float64(9), uint32(1), uint8(19)\n",
      "memory usage: 21.1 MB\n"
     ]
    }
   ],
   "source": [
    "df.info()"
   ]
  },
  {
   "cell_type": "markdown",
   "metadata": {},
   "source": [
    "### Feature Importance"
   ]
  },
  {
   "cell_type": "markdown",
   "metadata": {},
   "source": [
    "Now before moving forward, I will run a Decision Tree to see if there are any features that we should remove due to being insignificant."
   ]
  },
  {
   "cell_type": "code",
   "execution_count": 25,
   "metadata": {},
   "outputs": [],
   "source": [
    "from sklearn.tree import DecisionTreeClassifier"
   ]
  },
  {
   "cell_type": "code",
   "execution_count": 26,
   "metadata": {},
   "outputs": [],
   "source": [
    "X = df.drop(\"popularity\", 1)\n",
    "y = df[\"popularity\"]"
   ]
  },
  {
   "cell_type": "code",
   "execution_count": 27,
   "metadata": {},
   "outputs": [
    {
     "name": "stdout",
     "output_type": "stream",
     "text": [
      "Wall time: 3.47 s\n"
     ]
    },
    {
     "data": {
      "text/plain": [
       "DecisionTreeRegressor(criterion='mse', max_depth=None, max_features=None,\n",
       "                      max_leaf_nodes=None, min_impurity_decrease=0.0,\n",
       "                      min_impurity_split=None, min_samples_leaf=1,\n",
       "                      min_samples_split=2, min_weight_fraction_leaf=0.0,\n",
       "                      presort=False, random_state=1337, splitter='best')"
      ]
     },
     "execution_count": 27,
     "metadata": {},
     "output_type": "execute_result"
    }
   ],
   "source": [
    "dtc = DecisionTreeClassifier(random_state=1337)\n",
    "%time dtc.fit(X, y)"
   ]
  },
  {
   "cell_type": "code",
   "execution_count": 28,
   "metadata": {
    "scrolled": true
   },
   "outputs": [
    {
     "name": "stdout",
     "output_type": "stream",
     "text": [
      "[(0.19633276629394456, 'acousticness'), (0.10905834428101578, 'duration_ms'), (0.09754361899690125, 'speechiness'), (0.09111620912050852, 'loudness'), (0.08286675114717103, 'danceability'), (0.08211741814785146, 'valence'), (0.07135149495514385, 'energy'), (0.07033243965108922, 'instrumentalness'), (0.06853260792560915, 'tempo'), (0.06734465560602357, 'liveness'), (0.007990170077956195, 'mode'), (0.0053209740808377965, 'key_G'), (0.004999507116023714, 'key_C'), (0.004517210945394091, 'key_C#'), (0.004478360941931459, 'key_A'), (0.004427893861861855, 'key_D'), (0.004163914508639518, 'key_F'), (0.004097542497270174, 'key_B'), (0.004085860776505869, 'key_F#'), (0.0038846568434074634, 'key_E'), (0.0036576455576585853, 'key_G#'), (0.0033819067260732485, 'key_A#'), (0.0027292061914560776, 'time_signature_4/4'), (0.0021912479521020863, 'time_signature_3/4'), (0.0020664026320165946, 'key_D#'), (0.0009804025029662802, 'time_signature_5/4'), (0.00043079066264077, 'time_signature_1/4'), (0.0, 'time_signature_0/4')]\n"
     ]
    }
   ],
   "source": [
    "print(sorted(zip(dtc.feature_importances_, X.columns), reverse=True))"
   ]
  },
  {
   "cell_type": "markdown",
   "metadata": {},
   "source": [
    "I think a good cutoff point here is for \"mode\" and everything below it, and they all just so happen to be the binary features. Dropping them shouldn't hurt accuracy, and will only improve runtime and memory usage."
   ]
  },
  {
   "cell_type": "code",
   "execution_count": 29,
   "metadata": {},
   "outputs": [],
   "source": [
    "X.drop(['time_signature_0/4', 'time_signature_1/4',\n",
    "       'time_signature_3/4', 'time_signature_4/4', 'time_signature_5/4',\n",
    "       'key_A', 'key_A#', 'key_B', 'key_C', 'key_C#', 'key_D', 'key_D#',\n",
    "       'key_E', 'key_F', 'key_F#', 'key_G', 'key_G#'], 1, inplace=True)"
   ]
  },
  {
   "cell_type": "code",
   "execution_count": 30,
   "metadata": {
    "scrolled": true
   },
   "outputs": [
    {
     "name": "stdout",
     "output_type": "stream",
     "text": [
      "<class 'pandas.core.frame.DataFrame'>\n",
      "RangeIndex: 232725 entries, 0 to 232724\n",
      "Data columns (total 11 columns):\n",
      "acousticness        232725 non-null float64\n",
      "danceability        232725 non-null float64\n",
      "duration_ms         232725 non-null uint32\n",
      "energy              232725 non-null float64\n",
      "instrumentalness    232725 non-null float64\n",
      "liveness            232725 non-null float64\n",
      "loudness            232725 non-null float64\n",
      "mode                232725 non-null uint8\n",
      "speechiness         232725 non-null float64\n",
      "tempo               232725 non-null float64\n",
      "valence             232725 non-null float64\n",
      "dtypes: float64(9), uint32(1), uint8(1)\n",
      "memory usage: 17.1 MB\n"
     ]
    }
   ],
   "source": [
    "X.info()"
   ]
  },
  {
   "cell_type": "markdown",
   "metadata": {},
   "source": [
    "## Model Evaluation"
   ]
  },
  {
   "cell_type": "markdown",
   "metadata": {},
   "source": [
    "### Train Test Split"
   ]
  },
  {
   "cell_type": "markdown",
   "metadata": {},
   "source": [
    "Did some experimenting and found I got the best test scores without increasing training score by setting test size to 10000. I like using the \"stratify\" parameter so that the distribution of the outcome variable in the train and test sets remain virtually the same."
   ]
  },
  {
   "cell_type": "code",
   "execution_count": 31,
   "metadata": {},
   "outputs": [],
   "source": [
    "from sklearn.model_selection import train_test_split\n",
    "\n",
    "X_train, X_test, y_train, y_test = train_test_split(X, y, test_size=10000, stratify=y) "
   ]
  },
  {
   "cell_type": "markdown",
   "metadata": {},
   "source": [
    "### Scaling"
   ]
  },
  {
   "cell_type": "markdown",
   "metadata": {},
   "source": [
    "Going to use RobustScaler to scale all the features for any of the models that need things to be within the same scale."
   ]
  },
  {
   "cell_type": "code",
   "execution_count": 32,
   "metadata": {},
   "outputs": [],
   "source": [
    "from sklearn.preprocessing import RobustScaler\n",
    "\n",
    "scaler = RobustScaler()\n",
    "scaled_X_train = scaler.fit_transform(X_train)\n",
    "scaled_X_test = scaler.transform(X_test)"
   ]
  },
  {
   "cell_type": "markdown",
   "metadata": {},
   "source": [
    "### K-Fold for Cross Validation"
   ]
  },
  {
   "cell_type": "markdown",
   "metadata": {},
   "source": [
    "For similar reasons to my choice of the \"stratify\" parameter, I will be using the stratified version of the KFold class, so I make sure the distribution of the features remains virtually the same in each of the folds."
   ]
  },
  {
   "cell_type": "code",
   "execution_count": 33,
   "metadata": {},
   "outputs": [
    {
     "name": "stdout",
     "output_type": "stream",
     "text": [
      "Train: [ 43800  43804  43805 ... 222722 222723 222724] | test: [    0     1     2 ... 45102 45106 45117]\n",
      "Train: [     0      1      2 ... 222722 222723 222724] | test: [43800 43804 43805 ... 89319 89322 89329]\n",
      "Train: [     0      1      2 ... 222722 222723 222724] | test: [ 88672  88683  88686 ... 133809 133813 133818]\n",
      "Train: [     0      1      2 ... 222722 222723 222724] | test: [133296 133300 133301 ... 178363 178370 178378]\n",
      "Train: [     0      1      2 ... 178363 178370 178378] | test: [177914 177921 177926 ... 222722 222723 222724]\n"
     ]
    }
   ],
   "source": [
    "from sklearn.model_selection import StratifiedKFold\n",
    "\n",
    "k_fold = StratifiedKFold(n_splits=5)\n",
    "\n",
    "for train_indices, test_indices in k_fold.split(scaled_X_train, y_train):\n",
    "    print('Train: %s | test: %s' % (train_indices, test_indices))"
   ]
  },
  {
   "cell_type": "markdown",
   "metadata": {},
   "source": [
    "### Setting the Baseline with a Dummy Classifier"
   ]
  },
  {
   "cell_type": "markdown",
   "metadata": {},
   "source": [
    "First let's see what a Dummy Classifier can do with the data so we know if the actual models are doing better than guessing at random."
   ]
  },
  {
   "cell_type": "code",
   "execution_count": 34,
   "metadata": {},
   "outputs": [],
   "source": [
    "from sklearn.dummy import DummyClassifier"
   ]
  },
  {
   "cell_type": "code",
   "execution_count": 35,
   "metadata": {},
   "outputs": [
    {
     "data": {
      "text/plain": [
       "(0.2510988887641711, 0.2373)"
      ]
     },
     "execution_count": 35,
     "metadata": {},
     "output_type": "execute_result"
    }
   ],
   "source": [
    "dummy = DummyClassifier(strategy=\"uniform\")\n",
    "dummy.fit(scaled_X_train, y_train)\n",
    "dummy.score(scaled_X_train, y_train), dummy.score(scaled_X_test, y_test)"
   ]
  },
  {
   "cell_type": "markdown",
   "metadata": {},
   "source": [
    "As predicted, it can randomly guess correctly 25% of the time, since there are 4 classes, or a 1/4 chance."
   ]
  },
  {
   "cell_type": "markdown",
   "metadata": {},
   "source": [
    "### SGD Classifier"
   ]
  },
  {
   "cell_type": "markdown",
   "metadata": {},
   "source": [
    "Since this dataset has over 232K samples, Sci-kit Learn's <a href=\"https://scikit-learn.org/stable/tutorial/machine_learning_map/index.html\">\"Choosing the right estimator\"</a> documentation does not recommend any other form of classification, besides SGD."
   ]
  },
  {
   "cell_type": "code",
   "execution_count": 36,
   "metadata": {},
   "outputs": [],
   "source": [
    "from sklearn.linear_model import SGDClassifier\n",
    "from sklearn.metrics import classification_report, confusion_matrix"
   ]
  },
  {
   "cell_type": "code",
   "execution_count": 37,
   "metadata": {},
   "outputs": [
    {
     "name": "stdout",
     "output_type": "stream",
     "text": [
      "Wall time: 4.13 s\n"
     ]
    },
    {
     "data": {
      "text/plain": [
       "0.37818385901896956"
      ]
     },
     "execution_count": 37,
     "metadata": {},
     "output_type": "execute_result"
    }
   ],
   "source": [
    "sgdc = SGDClassifier()\n",
    "%time sgdc.fit(scaled_X_train, y_train)\n",
    "sgdc.score(scaled_X_train, y_train)"
   ]
  },
  {
   "cell_type": "code",
   "execution_count": 38,
   "metadata": {},
   "outputs": [
    {
     "name": "stdout",
     "output_type": "stream",
     "text": [
      "              precision    recall  f1-score   support\n",
      "\n",
      "           0       0.40      0.59      0.47      2424\n",
      "           1       0.33      0.36      0.34      2477\n",
      "           2       0.32      0.09      0.14      2588\n",
      "           3       0.41      0.48      0.44      2511\n",
      "\n",
      "    accuracy                           0.38     10000\n",
      "   macro avg       0.36      0.38      0.35     10000\n",
      "weighted avg       0.36      0.38      0.35     10000\n",
      "\n"
     ]
    }
   ],
   "source": [
    "y_pred = sgdc.predict(scaled_X_test)\n",
    "print(classification_report(y_test, y_pred))"
   ]
  },
  {
   "cell_type": "code",
   "execution_count": 39,
   "metadata": {},
   "outputs": [
    {
     "data": {
      "image/png": "[encoded data removed]",
      "text/plain": [
       "<Figure size 432x288 with 1 Axes>"
      ]
     },
     "metadata": {
      "needs_background": "light"
     },
     "output_type": "display_data"
    }
   ],
   "source": [
    "def plot_confusion_matrix(y_test, y_pred):\n",
    "    sns.heatmap(\n",
    "        confusion_matrix(y_test, y_pred), annot=True, cbar=False, fmt=\"d\",\n",
    "    )\n",
    "    plt.ylabel(\"True Label\")\n",
    "    plt.xlabel(\"Predicted Label\")\n",
    "    plt.title(\"Confusion Matrix\")\n",
    "    plt.show()\n",
    "\n",
    "plot_confusion_matrix(y_test, y_pred)"
   ]
  },
  {
   "cell_type": "code",
   "execution_count": 40,
   "metadata": {},
   "outputs": [
    {
     "name": "stdout",
     "output_type": "stream",
     "text": [
      "[0.38388668 0.38574475 0.37840386 0.38476562 0.38222881]\n",
      "0.3830059455430217\n"
     ]
    }
   ],
   "source": [
    "from sklearn.model_selection import cross_val_score\n",
    "\n",
    "cv = cross_val_score(sgdc, scaled_X_train, y_train, cv=k_fold, n_jobs=-1)\n",
    "print(cv)\n",
    "print(np.mean(cv))"
   ]
  },
  {
   "cell_type": "markdown",
   "metadata": {},
   "source": [
    "Interesting how much it struggles with recall on class 2 (>= 50% < 75%), and overall mediocre performance, with only 13% better than a dummy."
   ]
  },
  {
   "cell_type": "markdown",
   "metadata": {},
   "source": [
    "## Logistic Regression"
   ]
  },
  {
   "cell_type": "code",
   "execution_count": 41,
   "metadata": {},
   "outputs": [],
   "source": [
    "from sklearn.linear_model import LogisticRegression"
   ]
  },
  {
   "cell_type": "code",
   "execution_count": 42,
   "metadata": {},
   "outputs": [
    {
     "name": "stdout",
     "output_type": "stream",
     "text": [
      "Wall time: 1.64 s\n"
     ]
    },
    {
     "data": {
      "text/plain": [
       "0.41455157705690876"
      ]
     },
     "execution_count": 42,
     "metadata": {},
     "output_type": "execute_result"
    }
   ],
   "source": [
    "logreg = LogisticRegression(\n",
    "    solver='saga', # Using this solver because it's faster and the data is scaled\n",
    "    multi_class=\"auto\",\n",
    "    n_jobs=-1\n",
    ")\n",
    "%time logreg.fit(scaled_X_train, y_train)\n",
    "logreg.score(scaled_X_train, y_train)"
   ]
  },
  {
   "cell_type": "code",
   "execution_count": 43,
   "metadata": {},
   "outputs": [
    {
     "name": "stdout",
     "output_type": "stream",
     "text": [
      "              precision    recall  f1-score   support\n",
      "\n",
      "           0       0.50      0.51      0.50      2424\n",
      "           1       0.42      0.27      0.33      2477\n",
      "           2       0.33      0.25      0.28      2588\n",
      "           3       0.40      0.63      0.49      2511\n",
      "\n",
      "    accuracy                           0.41     10000\n",
      "   macro avg       0.41      0.42      0.40     10000\n",
      "weighted avg       0.41      0.41      0.40     10000\n",
      "\n"
     ]
    }
   ],
   "source": [
    "y_pred = logreg.predict(scaled_X_test)\n",
    "print(classification_report(y_test, y_pred))"
   ]
  },
  {
   "cell_type": "code",
   "execution_count": 44,
   "metadata": {},
   "outputs": [
    {
     "data": {
      "image/png": "[encoded data removed]",
      "text/plain": [
       "<Figure size 432x288 with 1 Axes>"
      ]
     },
     "metadata": {
      "needs_background": "light"
     },
     "output_type": "display_data"
    }
   ],
   "source": [
    "plot_confusion_matrix(y_test, y_pred)"
   ]
  },
  {
   "cell_type": "code",
   "execution_count": 45,
   "metadata": {},
   "outputs": [
    {
     "name": "stdout",
     "output_type": "stream",
     "text": [
      "[0.41149797 0.41315524 0.41517567 0.41615032 0.41511764]\n",
      "0.41421936590873454\n"
     ]
    }
   ],
   "source": [
    "cv = cross_val_score(logreg, scaled_X_train, y_train, cv=k_fold, n_jobs=-1)\n",
    "print(cv)\n",
    "print(np.mean(cv))"
   ]
  },
  {
   "cell_type": "markdown",
   "metadata": {},
   "source": [
    "A little bit better than SGD, but still unacceptable. And it still struggles with class 2, though not as much as in SGD."
   ]
  },
  {
   "cell_type": "markdown",
   "metadata": {},
   "source": [
    "## KNN"
   ]
  },
  {
   "cell_type": "code",
   "execution_count": 46,
   "metadata": {},
   "outputs": [],
   "source": [
    "from sklearn.neighbors import KNeighborsClassifier"
   ]
  },
  {
   "cell_type": "code",
   "execution_count": 47,
   "metadata": {},
   "outputs": [
    {
     "name": "stdout",
     "output_type": "stream",
     "text": [
      "Wall time: 273 ms\n"
     ]
    },
    {
     "data": {
      "text/plain": [
       "KNeighborsClassifier(algorithm='auto', leaf_size=30, metric='minkowski',\n",
       "                     metric_params=None, n_jobs=None, n_neighbors=5, p=2,\n",
       "                     weights='uniform')"
      ]
     },
     "execution_count": 47,
     "metadata": {},
     "output_type": "execute_result"
    }
   ],
   "source": [
    "knc = KNeighborsClassifier()\n",
    "%time knc.fit(scaled_X_train, y_train)\n",
    "# When trying to get a training score to check for overfitting, doing a knc.score or a classification\n",
    "# report on the training set causes the kernel to hang indefinitely."
   ]
  },
  {
   "cell_type": "code",
   "execution_count": 48,
   "metadata": {},
   "outputs": [
    {
     "name": "stdout",
     "output_type": "stream",
     "text": [
      "              precision    recall  f1-score   support\n",
      "\n",
      "           0       0.55      0.54      0.54      2424\n",
      "           1       0.41      0.40      0.40      2477\n",
      "           2       0.46      0.44      0.45      2588\n",
      "           3       0.56      0.61      0.58      2511\n",
      "\n",
      "    accuracy                           0.50     10000\n",
      "   macro avg       0.50      0.50      0.50     10000\n",
      "weighted avg       0.49      0.50      0.50     10000\n",
      "\n"
     ]
    }
   ],
   "source": [
    "y_pred = knc.predict(scaled_X_test)\n",
    "print(classification_report(y_test, y_pred))"
   ]
  },
  {
   "cell_type": "code",
   "execution_count": 49,
   "metadata": {},
   "outputs": [
    {
     "data": {
      "image/png": "[encoded data removed]",
      "text/plain": [
       "<Figure size 432x288 with 1 Axes>"
      ]
     },
     "metadata": {
      "needs_background": "light"
     },
     "output_type": "display_data"
    }
   ],
   "source": [
    "plot_confusion_matrix(y_test, y_pred)"
   ]
  },
  {
   "cell_type": "code",
   "execution_count": 50,
   "metadata": {},
   "outputs": [
    {
     "name": "stdout",
     "output_type": "stream",
     "text": [
      "[0.47125508 0.46851498 0.46838029 0.4684357  0.47312769]\n",
      "0.46994275026710153\n"
     ]
    }
   ],
   "source": [
    "cv = cross_val_score(knc, scaled_X_train, y_train, cv=k_fold, n_jobs=-1)\n",
    "print(cv)\n",
    "print(np.mean(cv))"
   ]
  },
  {
   "cell_type": "markdown",
   "metadata": {},
   "source": [
    "Definitely a step in the right direction. I'll try to change the weights parameter from the default to \"distance\" and see what happens."
   ]
  },
  {
   "cell_type": "code",
   "execution_count": 51,
   "metadata": {},
   "outputs": [
    {
     "name": "stdout",
     "output_type": "stream",
     "text": [
      "Wall time: 276 ms\n"
     ]
    },
    {
     "data": {
      "text/plain": [
       "KNeighborsClassifier(algorithm='auto', leaf_size=30, metric='minkowski',\n",
       "                     metric_params=None, n_jobs=None, n_neighbors=5, p=2,\n",
       "                     weights='distance')"
      ]
     },
     "execution_count": 51,
     "metadata": {},
     "output_type": "execute_result"
    }
   ],
   "source": [
    "knc = KNeighborsClassifier(weights=\"distance\")\n",
    "%time knc.fit(scaled_X_train, y_train)"
   ]
  },
  {
   "cell_type": "code",
   "execution_count": 52,
   "metadata": {},
   "outputs": [
    {
     "name": "stdout",
     "output_type": "stream",
     "text": [
      "              precision    recall  f1-score   support\n",
      "\n",
      "           0       0.65      0.51      0.57      2424\n",
      "           1       0.51      0.44      0.47      2477\n",
      "           2       0.60      0.61      0.60      2588\n",
      "           3       0.65      0.87      0.75      2511\n",
      "\n",
      "    accuracy                           0.61     10000\n",
      "   macro avg       0.60      0.61      0.60     10000\n",
      "weighted avg       0.60      0.61      0.60     10000\n",
      "\n"
     ]
    }
   ],
   "source": [
    "y_pred = knc.predict(scaled_X_test)\n",
    "print(classification_report(y_test, y_pred))"
   ]
  },
  {
   "cell_type": "code",
   "execution_count": 53,
   "metadata": {},
   "outputs": [
    {
     "data": {
      "image/png": "[encoded data removed]",
      "text/plain": [
       "<Figure size 432x288 with 1 Axes>"
      ]
     },
     "metadata": {
      "needs_background": "light"
     },
     "output_type": "display_data"
    }
   ],
   "source": [
    "plot_confusion_matrix(y_test, y_pred)"
   ]
  },
  {
   "cell_type": "code",
   "execution_count": 54,
   "metadata": {},
   "outputs": [
    {
     "name": "stdout",
     "output_type": "stream",
     "text": [
      "[0.57801872 0.57126501 0.57077113 0.57051455 0.5743759 ]\n",
      "0.5729890620855396\n"
     ]
    }
   ],
   "source": [
    "cv = cross_val_score(knc, scaled_X_train, y_train, cv=k_fold, n_jobs=-1)\n",
    "print(cv)\n",
    "print(np.mean(cv))"
   ]
  },
  {
   "cell_type": "markdown",
   "metadata": {},
   "source": [
    "An overall 10% increase in F1 score, not bad."
   ]
  },
  {
   "cell_type": "markdown",
   "metadata": {},
   "source": [
    "## Decision Tree"
   ]
  },
  {
   "cell_type": "markdown",
   "metadata": {},
   "source": [
    "I did a decision tree before, but I did not care about the accuracy, I just wanted to use it as a feature selection tool. Now I want to see how it did with test accuracy."
   ]
  },
  {
   "cell_type": "code",
   "execution_count": 56,
   "metadata": {},
   "outputs": [
    {
     "name": "stdout",
     "output_type": "stream",
     "text": [
      "Wall time: 2.9 s\n"
     ]
    },
    {
     "data": {
      "text/plain": [
       "0.9856908743966775"
      ]
     },
     "execution_count": 56,
     "metadata": {},
     "output_type": "execute_result"
    }
   ],
   "source": [
    "dtc = DecisionTreeClassifier(random_state=1337)\n",
    "%time dtc.fit(scaled_X_train, y_train)\n",
    "dtc.score(scaled_X_train, y_train)"
   ]
  },
  {
   "cell_type": "code",
   "execution_count": 57,
   "metadata": {},
   "outputs": [
    {
     "name": "stdout",
     "output_type": "stream",
     "text": [
      "              precision    recall  f1-score   support\n",
      "\n",
      "           0       0.56      0.49      0.52      2424\n",
      "           1       0.45      0.41      0.43      2477\n",
      "           2       0.59      0.60      0.60      2588\n",
      "           3       0.72      0.86      0.78      2511\n",
      "\n",
      "    accuracy                           0.59     10000\n",
      "   macro avg       0.58      0.59      0.58     10000\n",
      "weighted avg       0.58      0.59      0.58     10000\n",
      "\n"
     ]
    }
   ],
   "source": [
    "y_pred = dtc.predict(scaled_X_test)\n",
    "print(classification_report(y_test, y_pred))"
   ]
  },
  {
   "cell_type": "code",
   "execution_count": 58,
   "metadata": {},
   "outputs": [
    {
     "data": {
      "image/png": "[encoded data removed]",
      "text/plain": [
       "<Figure size 432x288 with 1 Axes>"
      ]
     },
     "metadata": {
      "needs_background": "light"
     },
     "output_type": "display_data"
    }
   ],
   "source": [
    "plot_confusion_matrix(y_test, y_pred)"
   ]
  },
  {
   "cell_type": "code",
   "execution_count": 59,
   "metadata": {},
   "outputs": [
    {
     "name": "stdout",
     "output_type": "stream",
     "text": [
      "[0.57801872 0.57126501 0.57077113 0.57051455 0.5743759 ]\n",
      "0.5729890620855396\n"
     ]
    }
   ],
   "source": [
    "cv = cross_val_score(knc, scaled_X_train, y_train, cv=k_fold, n_jobs=-1)\n",
    "print(cv)\n",
    "print(np.mean(cv))"
   ]
  },
  {
   "cell_type": "markdown",
   "metadata": {},
   "source": [
    "Starting to see a pattern with the classification report and confusion matrix. Interesting that the 75% and above song popularity range is easier for all the the models so far to predict. Perhaps there is less diversity, and thus less noise in the features of songs with high popularity? This would be interesting to plot for later."
   ]
  },
  {
   "cell_type": "markdown",
   "metadata": {},
   "source": [
    "## Random Forest"
   ]
  },
  {
   "cell_type": "markdown",
   "metadata": {},
   "source": [
    "Now that it is apparent that decision trees do decent with this dataset, I want to see how an entire forest of trees can improve the test accuracy of the model."
   ]
  },
  {
   "cell_type": "code",
   "execution_count": 60,
   "metadata": {},
   "outputs": [],
   "source": [
    "from sklearn.ensemble import RandomForestClassifier"
   ]
  },
  {
   "cell_type": "code",
   "execution_count": 61,
   "metadata": {},
   "outputs": [
    {
     "name": "stdout",
     "output_type": "stream",
     "text": [
      "Wall time: 16.6 s\n"
     ]
    },
    {
     "data": {
      "text/plain": [
       "0.9856818947132113"
      ]
     },
     "execution_count": 61,
     "metadata": {},
     "output_type": "execute_result"
    }
   ],
   "source": [
    "rfc = RandomForestClassifier(class_weight=\"balanced\",\n",
    "    n_estimators=100, n_jobs=-1, random_state=1337)\n",
    "\n",
    "%time rfc.fit(scaled_X_train, y_train)\n",
    "rfc.score(scaled_X_train, y_train)"
   ]
  },
  {
   "cell_type": "code",
   "execution_count": 62,
   "metadata": {},
   "outputs": [
    {
     "name": "stdout",
     "output_type": "stream",
     "text": [
      "              precision    recall  f1-score   support\n",
      "\n",
      "           0       0.66      0.59      0.62      2424\n",
      "           1       0.52      0.52      0.52      2477\n",
      "           2       0.64      0.62      0.63      2588\n",
      "           3       0.77      0.87      0.82      2511\n",
      "\n",
      "    accuracy                           0.65     10000\n",
      "   macro avg       0.65      0.65      0.65     10000\n",
      "weighted avg       0.65      0.65      0.65     10000\n",
      "\n"
     ]
    }
   ],
   "source": [
    "y_pred = rfc.predict(scaled_X_test)\n",
    "print(classification_report(y_test, y_pred))"
   ]
  },
  {
   "cell_type": "code",
   "execution_count": 63,
   "metadata": {},
   "outputs": [
    {
     "data": {
      "image/png": "[encoded data removed]",
      "text/plain": [
       "<Figure size 432x288 with 1 Axes>"
      ]
     },
     "metadata": {
      "needs_background": "light"
     },
     "output_type": "display_data"
    }
   ],
   "source": [
    "plot_confusion_matrix(y_test, y_pred)"
   ]
  },
  {
   "cell_type": "code",
   "execution_count": 64,
   "metadata": {},
   "outputs": [
    {
     "name": "stdout",
     "output_type": "stream",
     "text": [
      "[0.62194985 0.62384106 0.62188798 0.62104885 0.62140805]\n",
      "0.6220271570645195\n"
     ]
    }
   ],
   "source": [
    "cv = cross_val_score(rfc, scaled_X_train, y_train, cv=k_fold)\n",
    "print(cv)\n",
    "print(np.mean(cv))"
   ]
  },
  {
   "cell_type": "markdown",
   "metadata": {},
   "source": [
    "Very nice. About a 5% increase in test accuracy and f1-score over decision trees. Now to see if another implementation of decision trees in an ensemble, Extra Random Trees will provide any differences."
   ]
  },
  {
   "cell_type": "markdown",
   "metadata": {},
   "source": [
    "## Extra Random Trees"
   ]
  },
  {
   "cell_type": "code",
   "execution_count": 65,
   "metadata": {},
   "outputs": [],
   "source": [
    "from sklearn.ensemble import ExtraTreesClassifier"
   ]
  },
  {
   "cell_type": "code",
   "execution_count": 66,
   "metadata": {},
   "outputs": [
    {
     "name": "stdout",
     "output_type": "stream",
     "text": [
      "Wall time: 11.5 s\n"
     ]
    },
    {
     "data": {
      "text/plain": [
       "0.9856908743966775"
      ]
     },
     "execution_count": 66,
     "metadata": {},
     "output_type": "execute_result"
    }
   ],
   "source": [
    "xtc = ExtraTreesClassifier(class_weight=\"balanced\",\n",
    "    n_estimators=100, n_jobs=-1, random_state=1337) \n",
    "\n",
    "%time xtc.fit(scaled_X_train, y_train)\n",
    "xtc.score(scaled_X_train, y_train)"
   ]
  },
  {
   "cell_type": "code",
   "execution_count": 67,
   "metadata": {},
   "outputs": [
    {
     "name": "stdout",
     "output_type": "stream",
     "text": [
      "              precision    recall  f1-score   support\n",
      "\n",
      "           0       0.65      0.59      0.62      2424\n",
      "           1       0.50      0.55      0.52      2477\n",
      "           2       0.65      0.62      0.63      2588\n",
      "           3       0.82      0.86      0.84      2511\n",
      "\n",
      "    accuracy                           0.65     10000\n",
      "   macro avg       0.65      0.65      0.65     10000\n",
      "weighted avg       0.65      0.65      0.65     10000\n",
      "\n"
     ]
    }
   ],
   "source": [
    "y_pred = xtc.predict(scaled_X_test)\n",
    "print(classification_report(y_test, y_pred))"
   ]
  },
  {
   "cell_type": "code",
   "execution_count": 68,
   "metadata": {},
   "outputs": [
    {
     "data": {
      "image/png": "[encoded data removed]",
      "text/plain": [
       "<Figure size 432x288 with 1 Axes>"
      ]
     },
     "metadata": {
      "needs_background": "light"
     },
     "output_type": "display_data"
    }
   ],
   "source": [
    "plot_confusion_matrix(y_test, y_pred)"
   ]
  },
  {
   "cell_type": "code",
   "execution_count": 69,
   "metadata": {},
   "outputs": [
    {
     "name": "stdout",
     "output_type": "stream",
     "text": [
      "[0.6288639  0.6255921  0.62503087 0.62479795 0.62574084]\n",
      "0.6260051310405208\n"
     ]
    }
   ],
   "source": [
    "cv = cross_val_score(xtc, scaled_X_train, y_train, cv=k_fold)\n",
    "print(cv)\n",
    "print(np.mean(cv))"
   ]
  },
  {
   "cell_type": "markdown",
   "metadata": {},
   "source": [
    "Overall the same in terms of average f1-score and slightly higher cross validation average accuracy, but the biggest difference is seen in the 2% increase in f1-score, and 5% increase in precision for the third class, and approximately 33% faster fitting time than the Random Forest. \n",
    "\n",
    "This model appears to be pretty good at recognizing songs with a popularity of 55 and above. Which I think is good, as if you get such a great prediction, you want it to be more accurate than the lower predictions, as to not get your hopes up. It is also pretty good at recogning the second highest class, which was the one that the non-decision tree classifiers struggled with the most. And it is third best at predicting songs in the lowest popularity class, lower than 29. The model gets the most confused with predicting if a song has a popularity of >= 29 < 43, or class 1. Perhaps increasing the amount of training data at a later time will resolve this."
   ]
  },
  {
   "cell_type": "markdown",
   "metadata": {},
   "source": []
  }
 ],
 "metadata": {
  "kernelspec": {
   "display_name": "Python 3",
   "language": "python",
   "name": "python3"
  },
  "language_info": {
   "codemirror_mode": {
    "name": "ipython",
    "version": 3
   },
   "file_extension": ".py",
   "mimetype": "text/x-python",
   "name": "python",
   "nbconvert_exporter": "python",
   "pygments_lexer": "ipython3",
   "version": "3.7.5"
  }
 },
 "nbformat": 4,
 "nbformat_minor": 2
}
